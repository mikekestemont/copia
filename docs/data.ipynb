{
 "cells": [
  {
   "cell_type": "markdown",
   "id": "12359441-dc0e-41a5-a24b-c40f611e47b6",
   "metadata": {},
   "source": [
    "# Data preprocessing\n",
    "\n",
    "Two primary data types are gathered to evaluate species richness diversity. The first is individual-based abundance data. This data type focuses on individuals as the sampling units, noting the count of each species observed. The second type is sample-based incidence data, where the sampling units are specified areas or intervals, such as quadrats, plots, transects, or time intervals. In this case, the data records simply the presence or absence of each species within these units, as outlined by Colwell et al. (2012).\n",
    "\n",
    "In the 'copia' software package, these data types are represented through the `AbundanceData` and `IncidenceData` objects, respectively.\n",
    "\n",
    "For data analysis, all functions within 'copia' require input data to be formatted as instances of either `AbundanceData` or `IncidenceData`. To facilitate this, the `copia.data.to_copia_dataset()` function is designed to convert a collection of observations into a structured 'copia' dataset. This process is compatible with both abundance and incidence data types. Below, we provide various examples to illustrate how datasets can be created and initialized using this function.\n",
    "\n",
    "## Abundance Data\n",
    "Now, let's focus on handling abundance data. Suppose you have gathered a list of species observations. To effectively utilize these observations in the 'copia' software, you can organize them into a copia dataset in the following manner:"
   ]
  },
  {
   "cell_type": "code",
   "execution_count": 1,
   "id": "4b835cf5-c8e9-4046-86db-3002caf56b05",
   "metadata": {},
   "outputs": [
    {
     "data": {
      "text/plain": [
       "AbundanceData(S_obs=4, f1=2, f2=1, n=7, counts=array([3, 2, 1, 1]))"
      ]
     },
     "execution_count": 1,
     "metadata": {},
     "output_type": "execute_result"
    }
   ],
   "source": [
    "from copia.data import to_copia_dataset\n",
    "\n",
    "observations = 'duck', 'duck', 'eagle', 'dove', 'dove', 'dove', 'hawk'\n",
    "ds = to_copia_dataset(observations, data_type=\"abundance\", input_type=\"observations\")\n",
    "ds"
   ]
  },
  {
   "cell_type": "markdown",
   "id": "56dbeff1-912c-445d-a174-d8e2013df0fe",
   "metadata": {},
   "source": [
    "The `AbundanceData` object is designed to transform your observations into a structured array. This array enumerates the counts for each unique species identified in your dataset. Additionally, it computes basic statistical measures, including the count of singletons (f1) and doubletons (f2). These metrics are crucial for numerous estimation functions within the Copia framework.\n",
    "\n",
    "In scenarios where you're working with count data directly, as opposed to raw observations, constructing a similar data object is straightforward:"
   ]
  },
  {
   "cell_type": "code",
   "execution_count": 2,
   "id": "1bcd1f69-6039-4ffc-a64d-22cad739fead",
   "metadata": {},
   "outputs": [
    {
     "data": {
      "text/plain": [
       "AbundanceData(S_obs=4, f1=2, f2=1, n=7, counts=array([3, 2, 1, 1]))"
      ]
     },
     "execution_count": 2,
     "metadata": {},
     "output_type": "execute_result"
    }
   ],
   "source": [
    "import numpy as np\n",
    "\n",
    "counts = np.array([3, 2, 1, 1])\n",
    "ds = to_copia_dataset(counts, data_type=\"abundance\", input_type=\"counts\")\n",
    "ds"
   ]
  },
  {
   "cell_type": "markdown",
   "id": "fcf082f2-5074-4d65-8cc0-77bc72350082",
   "metadata": {},
   "source": [
    "Similarly, we can use a Pandas `Series` or `DataFrame` object to construct the dataset:"
   ]
  },
  {
   "cell_type": "code",
   "execution_count": 3,
   "id": "ba326a29-d5fc-45c8-a945-24ffbfa79aef",
   "metadata": {},
   "outputs": [
    {
     "data": {
      "text/plain": [
       "dove     3\n",
       "duck     2\n",
       "eagle    1\n",
       "hawk     1\n",
       "dtype: int64"
      ]
     },
     "execution_count": 3,
     "metadata": {},
     "output_type": "execute_result"
    }
   ],
   "source": [
    "import pandas as pd\n",
    "\n",
    "counts = pd.Series([3, 2, 1, 1], index=[\"dove\", \"duck\", \"eagle\", \"hawk\"])\n",
    "counts"
   ]
  },
  {
   "cell_type": "code",
   "execution_count": 4,
   "id": "bffb416f-382d-47bf-8e0b-123bb0cf5cd7",
   "metadata": {},
   "outputs": [
    {
     "data": {
      "text/plain": [
       "AbundanceData(S_obs=4, f1=2, f2=1, n=7, counts=array([3, 2, 1, 1]))"
      ]
     },
     "execution_count": 4,
     "metadata": {},
     "output_type": "execute_result"
    }
   ],
   "source": [
    "ds = to_copia_dataset(counts, data_type=\"abundance\", input_type=\"counts\")\n",
    "ds"
   ]
  },
  {
   "cell_type": "markdown",
   "id": "bcb0de63-af1b-4316-8361-60f17bb6d6d2",
   "metadata": {},
   "source": [
    "## Incidence Data\n",
    "\n",
    "Moving on, let's explore the handling of incidence data in Copia. Similar to abundance data, you can input either raw observation data or count data. There are two ways to input raw incidence observations:\n",
    "\n",
    "#### 1. Observation Matrix\n",
    "This method is suitable for data presented in a matrix format, which can be either a NumPy array or a pandas DataFrame. In this matrix, rows (or columns) correspond to unique items, while columns (or rows) signify unique locations. A non-zero entry in the matrix indicates the occurrence of an item at a specific location."
   ]
  },
  {
   "cell_type": "code",
   "execution_count": 5,
   "id": "996d4621-e372-4988-8f5a-160820529640",
   "metadata": {},
   "outputs": [
    {
     "data": {
      "text/plain": [
       "IncidenceData(S_obs=3, f1=2, f2=1, n=4, counts=array([1, 1, 2]), T=3)"
      ]
     },
     "execution_count": 5,
     "metadata": {},
     "output_type": "execute_result"
    }
   ],
   "source": [
    "observation_matrix = np.array([[1, 0], [0, 1], [1, 1]])\n",
    "ds = to_copia_dataset(observation_matrix, data_type=\"incidence\", \n",
    "                      input_type='observation_matrix', n_sampling_units=3)\n",
    "ds"
   ]
  },
  {
   "cell_type": "markdown",
   "id": "356355a4-c83f-4326-9443-3c6fdfe68ecb",
   "metadata": {},
   "source": [
    "#### 2. Observation List\n",
    "This approach is ideal for data structured as a list, tuple, dict, or NumPy array consisting of (item, location) pairs. It can also be a pandas DataFrame with designated columns for items and locations."
   ]
  },
  {
   "cell_type": "code",
   "execution_count": 11,
   "id": "e1cceb88-0d75-4165-9ba1-c60bb144663f",
   "metadata": {},
   "outputs": [
    {
     "data": {
      "text/plain": [
       "IncidenceData(S_obs=3, f1=2, f2=1, n=4, counts=array([1, 1, 2]), T=3)"
      ]
     },
     "execution_count": 11,
     "metadata": {},
     "output_type": "execute_result"
    }
   ],
   "source": [
    "observation_list = [\n",
    "    ('item1', 'loc1'), ('item2', 'loc2'), \n",
    "    ('item3', 'loc1'), ('item3', 'loc2')\n",
    "]\n",
    "\n",
    "ds = to_copia_dataset(observation_list, data_type=\"incidence\", \n",
    "                      input_type='observation_list', n_sampling_units=3)\n",
    "ds"
   ]
  },
  {
   "cell_type": "markdown",
   "id": "7c227561-994a-4924-a154-ef698c316cfc",
   "metadata": {},
   "source": [
    "One could also provide a Pandas DataFrame object and specify the columns holding the items and locations respectively:"
   ]
  },
  {
   "cell_type": "code",
   "execution_count": 12,
   "id": "bfe26ad3-16c7-4409-a4a1-81d2a755398f",
   "metadata": {},
   "outputs": [
    {
     "data": {
      "text/html": [
       "<div>\n",
       "<style scoped>\n",
       "    .dataframe tbody tr th:only-of-type {\n",
       "        vertical-align: middle;\n",
       "    }\n",
       "\n",
       "    .dataframe tbody tr th {\n",
       "        vertical-align: top;\n",
       "    }\n",
       "\n",
       "    .dataframe thead th {\n",
       "        text-align: right;\n",
       "    }\n",
       "</style>\n",
       "<table border=\"1\" class=\"dataframe\">\n",
       "  <thead>\n",
       "    <tr style=\"text-align: right;\">\n",
       "      <th></th>\n",
       "      <th>item</th>\n",
       "      <th>location</th>\n",
       "    </tr>\n",
       "  </thead>\n",
       "  <tbody>\n",
       "    <tr>\n",
       "      <th>0</th>\n",
       "      <td>item1</td>\n",
       "      <td>loc1</td>\n",
       "    </tr>\n",
       "    <tr>\n",
       "      <th>1</th>\n",
       "      <td>item2</td>\n",
       "      <td>loc2</td>\n",
       "    </tr>\n",
       "    <tr>\n",
       "      <th>2</th>\n",
       "      <td>item3</td>\n",
       "      <td>loc1</td>\n",
       "    </tr>\n",
       "    <tr>\n",
       "      <th>3</th>\n",
       "      <td>item3</td>\n",
       "      <td>loc2</td>\n",
       "    </tr>\n",
       "  </tbody>\n",
       "</table>\n",
       "</div>"
      ],
      "text/plain": [
       "    item location\n",
       "0  item1     loc1\n",
       "1  item2     loc2\n",
       "2  item3     loc1\n",
       "3  item3     loc2"
      ]
     },
     "execution_count": 12,
     "metadata": {},
     "output_type": "execute_result"
    }
   ],
   "source": [
    "observation_df = pd.DataFrame(observation_list, columns=['item', 'location'])\n",
    "observation_df"
   ]
  },
  {
   "cell_type": "code",
   "execution_count": 8,
   "id": "5354325d-6642-4373-813d-d54f2f486a2a",
   "metadata": {},
   "outputs": [
    {
     "data": {
      "text/plain": [
       "IncidenceData(S_obs=3, f1=2, f2=1, n=4, counts=array([1, 1, 2]), T=3)"
      ]
     },
     "execution_count": 8,
     "metadata": {},
     "output_type": "execute_result"
    }
   ],
   "source": [
    "ds = to_copia_dataset(\n",
    "    observation_list, data_type=\"incidence\", \n",
    "    input_type='observation_list', \n",
    "    location_column='location',\n",
    "    index_column='item',\n",
    "    n_sampling_units=3)\n",
    "ds"
   ]
  },
  {
   "cell_type": "markdown",
   "id": "6f8c7fd9-a844-47d0-929f-5747e0bacdf4",
   "metadata": {},
   "source": [
    "In addition to raw observations, Copia also supports the use of count data for analyzing incidence. You have the flexibility to provide this data in various formats:\n",
    "\n",
    "1. List or Array: Simple count data can be supplied as a list or an array, where the counts are directly enumerated.\n",
    "2. Pandas `Series` or `DataFrame`: For a more comprehensive analysis, you can opt for a detailed format by using a pandas `Series` or `DataFrame`. This allows for a richer representation of the data, including additional attributes and more complex structures.\n",
    "\n",
    "The following examples illustrate how count data for incidence can be incorporated into Copia:"
   ]
  },
  {
   "cell_type": "code",
   "execution_count": 9,
   "id": "69b8a3e5-2424-492c-b4cf-af6bdb5dc973",
   "metadata": {},
   "outputs": [
    {
     "data": {
      "text/plain": [
       "IncidenceData(S_obs=3, f1=2, f2=1, n=4, counts=array([2, 1, 1]), T=3)"
      ]
     },
     "execution_count": 9,
     "metadata": {},
     "output_type": "execute_result"
    }
   ],
   "source": [
    "counts = [2, 1, 1]\n",
    "\n",
    "ds = to_copia_dataset(\n",
    "    counts, data_type='incidence', input_type='counts', n_sampling_units=3)\n",
    "ds"
   ]
  },
  {
   "cell_type": "code",
   "execution_count": 10,
   "id": "510d4bf0-328a-4158-82a1-b35549c366a7",
   "metadata": {},
   "outputs": [
    {
     "data": {
      "text/plain": [
       "IncidenceData(S_obs=3, f1=2, f2=1, n=4, counts=array([2, 1, 1]), T=3)"
      ]
     },
     "execution_count": 10,
     "metadata": {},
     "output_type": "execute_result"
    }
   ],
   "source": [
    "df = pd.DataFrame([\n",
    "    {'item': 'item1', 'count': 1},\n",
    "    {'item': 'item2', 'count': 1},\n",
    "    {'item': 'item3', 'count': 2}])\n",
    "\n",
    "ds = to_copia_dataset(\n",
    "    counts, data_type='incidence', \n",
    "    input_type='counts',\n",
    "    index_column='item',\n",
    "    count_column='count',\n",
    "    n_sampling_units=3)\n",
    "ds"
   ]
  },
  {
   "cell_type": "markdown",
   "id": "9a68b34d-400f-449f-8b68-09e51704a563",
   "metadata": {},
   "source": [
    "For more comprehensive details and specific guidance on utilizing the functions within Copia, we strongly encourage you to refer to our detailed documentation. This resource will provide you with in-depth explanations and additional examples to enhance your understanding and usage of the software.\n",
    "\n",
    "Copia offers a versatile and robust framework that efficiently accommodates both abundance and incidence data types. It's important to reiterate that for successful analysis and estimation within Copia, your data must be formatted as an instance of either `AbundanceData` or `IncidenceData`. Adhering to this requirement ensures accurate processing and effective utilization of Copia's capabilities."
   ]
  }
 ],
 "metadata": {
  "kernelspec": {
   "display_name": "Python 3 (ipykernel)",
   "language": "python",
   "name": "python3"
  },
  "language_info": {
   "codemirror_mode": {
    "name": "ipython",
    "version": 3
   },
   "file_extension": ".py",
   "mimetype": "text/x-python",
   "name": "python",
   "nbconvert_exporter": "python",
   "pygments_lexer": "ipython3",
   "version": "3.11.7"
  }
 },
 "nbformat": 4,
 "nbformat_minor": 5
}
