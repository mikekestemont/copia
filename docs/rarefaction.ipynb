{
 "cells": [
  {
   "cell_type": "markdown",
   "id": "fbd70f1b-fb60-4f57-9aab-8c16dc93cce6",
   "metadata": {},
   "source": [
    "# Rarefaction - Extrapolation\n",
    "\n",
    "Rarefaction - Extrapolation, or Species Accumulation curves elucidate the relationship between the number of unique species and the increment in sample size (i.e., the number of observations).  These curves offer a sort of peak into the future: they show how many unique species we are expected to find if we were to continue sampling more items -- into infinity. With Copia, you can compute this relationship effortlessly using the `species_accumulation()` function. Examine the following code snippet for a practical demonstration:"
   ]
  },
  {
   "cell_type": "code",
   "execution_count": 1,
   "id": "600476de-8794-4a2c-bb31-e6cb8b3ce2bd",
   "metadata": {},
   "outputs": [
    {
     "data": {
      "application/json": {
       "ascii": false,
       "bar_format": null,
       "colour": null,
       "elapsed": 0.009905099868774414,
       "initial": 0,
       "n": 0,
       "ncols": null,
       "nrows": 42,
       "postfix": null,
       "prefix": "",
       "rate": null,
       "total": 100,
       "unit": "it",
       "unit_divisor": 1000,
       "unit_scale": false
      },
      "application/vnd.jupyter.widget-view+json": {
       "model_id": "0a54f5a8432c41ee9081e99e5ecd4760",
       "version_major": 2,
       "version_minor": 0
      },
      "text/plain": [
       "  0%|          | 0/100 [00:00<?, ?it/s]"
      ]
     },
     "metadata": {},
     "output_type": "display_data"
    },
    {
     "data": {
      "text/html": [
       "<div>\n",
       "<style scoped>\n",
       "    .dataframe tbody tr th:only-of-type {\n",
       "        vertical-align: middle;\n",
       "    }\n",
       "\n",
       "    .dataframe tbody tr th {\n",
       "        vertical-align: top;\n",
       "    }\n",
       "\n",
       "    .dataframe thead th {\n",
       "        text-align: right;\n",
       "    }\n",
       "</style>\n",
       "<table border=\"1\" class=\"dataframe\">\n",
       "  <thead>\n",
       "    <tr style=\"text-align: right;\">\n",
       "      <th></th>\n",
       "      <th>est</th>\n",
       "      <th>lci</th>\n",
       "      <th>uci</th>\n",
       "      <th>interpolated</th>\n",
       "    </tr>\n",
       "    <tr>\n",
       "      <th>steps</th>\n",
       "      <th></th>\n",
       "      <th></th>\n",
       "      <th></th>\n",
       "      <th></th>\n",
       "    </tr>\n",
       "  </thead>\n",
       "  <tbody>\n",
       "    <tr>\n",
       "      <th>1</th>\n",
       "      <td>1.000000</td>\n",
       "      <td>1.000000</td>\n",
       "      <td>1.000000</td>\n",
       "      <td>True</td>\n",
       "    </tr>\n",
       "    <tr>\n",
       "      <th>11</th>\n",
       "      <td>9.813107</td>\n",
       "      <td>9.491307</td>\n",
       "      <td>10.088475</td>\n",
       "      <td>True</td>\n",
       "    </tr>\n",
       "    <tr>\n",
       "      <th>21</th>\n",
       "      <td>17.089954</td>\n",
       "      <td>16.219956</td>\n",
       "      <td>17.845434</td>\n",
       "      <td>True</td>\n",
       "    </tr>\n",
       "    <tr>\n",
       "      <th>31</th>\n",
       "      <td>23.373672</td>\n",
       "      <td>21.962527</td>\n",
       "      <td>24.623940</td>\n",
       "      <td>True</td>\n",
       "    </tr>\n",
       "    <tr>\n",
       "      <th>41</th>\n",
       "      <td>28.958599</td>\n",
       "      <td>27.022643</td>\n",
       "      <td>30.811321</td>\n",
       "      <td>True</td>\n",
       "    </tr>\n",
       "    <tr>\n",
       "      <th>...</th>\n",
       "      <td>...</td>\n",
       "      <td>...</td>\n",
       "      <td>...</td>\n",
       "      <td>...</td>\n",
       "    </tr>\n",
       "    <tr>\n",
       "      <th>961</th>\n",
       "      <td>143.697450</td>\n",
       "      <td>105.684891</td>\n",
       "      <td>205.608881</td>\n",
       "      <td>False</td>\n",
       "    </tr>\n",
       "    <tr>\n",
       "      <th>971</th>\n",
       "      <td>143.848999</td>\n",
       "      <td>105.717249</td>\n",
       "      <td>206.119738</td>\n",
       "      <td>False</td>\n",
       "    </tr>\n",
       "    <tr>\n",
       "      <th>981</th>\n",
       "      <td>143.995227</td>\n",
       "      <td>105.747733</td>\n",
       "      <td>206.618181</td>\n",
       "      <td>False</td>\n",
       "    </tr>\n",
       "    <tr>\n",
       "      <th>991</th>\n",
       "      <td>144.136319</td>\n",
       "      <td>105.776425</td>\n",
       "      <td>207.104516</td>\n",
       "      <td>False</td>\n",
       "    </tr>\n",
       "    <tr>\n",
       "      <th>1001</th>\n",
       "      <td>144.272457</td>\n",
       "      <td>105.803402</td>\n",
       "      <td>207.579041</td>\n",
       "      <td>False</td>\n",
       "    </tr>\n",
       "  </tbody>\n",
       "</table>\n",
       "<p>101 rows × 4 columns</p>\n",
       "</div>"
      ],
      "text/plain": [
       "              est         lci         uci  interpolated\n",
       "steps                                                  \n",
       "1        1.000000    1.000000    1.000000          True\n",
       "11       9.813107    9.491307   10.088475          True\n",
       "21      17.089954   16.219956   17.845434          True\n",
       "31      23.373672   21.962527   24.623940          True\n",
       "41      28.958599   27.022643   30.811321          True\n",
       "...           ...         ...         ...           ...\n",
       "961    143.697450  105.684891  205.608881         False\n",
       "971    143.848999  105.717249  206.119738         False\n",
       "981    143.995227  105.747733  206.618181         False\n",
       "991    144.136319  105.776425  207.104516         False\n",
       "1001   144.272457  105.803402  207.579041         False\n",
       "\n",
       "[101 rows x 4 columns]"
      ]
     },
     "execution_count": 1,
     "metadata": {},
     "output_type": "execute_result"
    }
   ],
   "source": [
    "import pandas as pd\n",
    "\n",
    "from copia.data import to_copia_dataset\n",
    "from copia.rarefaction_extrapolation import species_accumulation\n",
    "\n",
    "df = pd.read_csv(\"../datasets/dum.csv\", sep=';')\n",
    "df.columns = 'work', 'signature'\n",
    "\n",
    "ds = to_copia_dataset(\n",
    "    df, data_type=\"abundance\", input_type=\"observations\", index_column=\"work\")\n",
    "\n",
    "accumulation = species_accumulation(ds, max_steps=1000, n_iter=100, step_size=10)\n",
    "accumulation"
   ]
  },
  {
   "cell_type": "markdown",
   "id": "81babb74-53d7-4dbc-b8df-50be997f6b57",
   "metadata": {},
   "source": [
    "We can visualize the species accumulation using Copia's `accumulation_curve()` function. The following code snippet demonstrates how to plot the accumulation curve:"
   ]
  },
  {
   "cell_type": "code",
   "execution_count": 2,
   "id": "4840b44f-52cd-4fb3-943e-3566686feeba",
   "metadata": {},
   "outputs": [
    {
     "data": {
      "image/png": "[encoded data removed]",
      "text/plain": [
       "<Figure size 600x400 with 1 Axes>"
      ]
     },
     "metadata": {},
     "output_type": "display_data"
    }
   ],
   "source": [
    "import matplotlib.pyplot as plt\n",
    "from copia.plot import accumulation_curve\n",
    "\n",
    "fig, ax = plt.subplots(figsize=(6, 4))\n",
    "\n",
    "accumulation_curve(\n",
    "    ds, accumulation, ax=ax, xlabel=\"number of documents\", ylabel=\"number of works\");"
   ]
  },
  {
   "cell_type": "markdown",
   "id": "c986aa03-3aac-4cb7-9f51-8548ae3ce768",
   "metadata": {},
   "source": [
    "In the plotted curve, the blue dot represents the empirical species richness. To its left, the interpolated accumulation of species with increased sampling is depicted (the rarefaction part). On the right, a projection into the future is illustrated, showing the anticipated discovery of new species or works with further document sampling (the extrapolation part). Notably, the curve begins to flatten around 1000 documents, suggesting that beyond this point, no new unseen works are expected to be found according to the estimator."
   ]
  }
 ],
 "metadata": {
  "kernelspec": {
   "display_name": "Python 3 (ipykernel)",
   "language": "python",
   "name": "python3"
  },
  "language_info": {
   "codemirror_mode": {
    "name": "ipython",
    "version": 3
   },
   "file_extension": ".py",
   "mimetype": "text/x-python",
   "name": "python",
   "nbconvert_exporter": "python",
   "pygments_lexer": "ipython3",
   "version": "3.11.7"
  }
 },
 "nbformat": 4,
 "nbformat_minor": 5
}
