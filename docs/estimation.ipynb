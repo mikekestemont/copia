{
 "cells": [
  {
   "cell_type": "markdown",
   "id": "e0188654-1977-415a-b4b8-26c4be4c9b8d",
   "metadata": {},
   "source": [
    "# Estimating Loss with Copia\n",
    "\n",
    "The data for this first part of the tutorial is sourced from the study by Kestemont & Karsdorp (2019), which marked our initial exploration into the realm of unseen medieval literature using statistical methods. The study addresses a key challenge in historical literature research: the incomplete transmission of sources over centuries, leading to a potential underestimation of the literary diversity of the past. By employing eco-diversity statistical methods on Middle Dutch chivalric epics, the study suggests that previous estimates of text loss might have been too conservative. These methods unveil that up to half, or possibly more, of the original texts may have been lost over time, highlighting the need for quantitative tools to adjust our understanding of historical literary diversity.\n",
    "\n",
    "## Loading the Data\n",
    "\n",
    "We will utilize the Pandas library to load our dataset for analysis. The following section provides the necessary code and instructions to successfully load and prepare the data for our exploration using Copia."
   ]
  },
  {
   "cell_type": "code",
   "execution_count": 1,
   "id": "6a138f1e-6ced-4173-b20d-da1edb2f5ab1",
   "metadata": {},
   "outputs": [
    {
     "data": {
      "text/html": [
       "<div>\n",
       "<style scoped>\n",
       "    .dataframe tbody tr th:only-of-type {\n",
       "        vertical-align: middle;\n",
       "    }\n",
       "\n",
       "    .dataframe tbody tr th {\n",
       "        vertical-align: top;\n",
       "    }\n",
       "\n",
       "    .dataframe thead th {\n",
       "        text-align: right;\n",
       "    }\n",
       "</style>\n",
       "<table border=\"1\" class=\"dataframe\">\n",
       "  <thead>\n",
       "    <tr style=\"text-align: right;\">\n",
       "      <th></th>\n",
       "      <th>work</th>\n",
       "      <th>signature</th>\n",
       "    </tr>\n",
       "  </thead>\n",
       "  <tbody>\n",
       "    <tr>\n",
       "      <th>0</th>\n",
       "      <td>Aiol (2)</td>\n",
       "      <td>Breda, Arch. Begijnhof, z.s.</td>\n",
       "    </tr>\n",
       "    <tr>\n",
       "      <th>1</th>\n",
       "      <td>Alexanders geesten</td>\n",
       "      <td>München, Bayerische Staatsbibliotheek, Cod. ge...</td>\n",
       "    </tr>\n",
       "    <tr>\n",
       "      <th>2</th>\n",
       "      <td>Alexanders geesten</td>\n",
       "      <td>Gent, UB, 2749,6</td>\n",
       "    </tr>\n",
       "    <tr>\n",
       "      <th>3</th>\n",
       "      <td>Alexanders geesten</td>\n",
       "      <td>Leiden, UB, Ltk. 1196</td>\n",
       "    </tr>\n",
       "    <tr>\n",
       "      <th>4</th>\n",
       "      <td>Alexanders geesten</td>\n",
       "      <td>Donaueschingen, Fürstl. Fürstenb. Hofbibl., 173</td>\n",
       "    </tr>\n",
       "  </tbody>\n",
       "</table>\n",
       "</div>"
      ],
      "text/plain": [
       "                 work                                          signature\n",
       "0            Aiol (2)                       Breda, Arch. Begijnhof, z.s.\n",
       "1  Alexanders geesten  München, Bayerische Staatsbibliotheek, Cod. ge...\n",
       "2  Alexanders geesten                                   Gent, UB, 2749,6\n",
       "3  Alexanders geesten                              Leiden, UB, Ltk. 1196\n",
       "4  Alexanders geesten    Donaueschingen, Fürstl. Fürstenb. Hofbibl., 173"
      ]
     },
     "execution_count": 1,
     "metadata": {},
     "output_type": "execute_result"
    }
   ],
   "source": [
    "import pandas as pd\n",
    "\n",
    "df = pd.read_csv(\"../datasets/dum.csv\", sep=';')\n",
    "df.columns = 'work', 'signature'\n",
    "df.head() "
   ]
  },
  {
   "cell_type": "markdown",
   "id": "87db3130-75ec-45af-96a2-a855880775f1",
   "metadata": {},
   "source": [
    "The Chao1 estimator formula necessitates the provision of two key parameters from our collection: the number of items occurring once ($f_1$) and the number of items occurring twice ($f_2$). These parameters are pivotal for estimating the unseen diversity in our dataset. Copia comes with a utility function designed to streamline the conversion of our list of works into abundance or incidence data, aligning with the requirements of the different estimators (see the tutorial on loading the data for more details)."
   ]
  },
  {
   "cell_type": "code",
   "execution_count": 2,
   "id": "3a340440-f2f5-440b-8f6d-21f6f5e8fae0",
   "metadata": {},
   "outputs": [
    {
     "data": {
      "text/plain": [
       "AbundanceData(S_obs=74, f1=44, f2=13, n=166, counts=array([17, 10, 10,  7,  6,  5,  5,  5,  5,  4,  4,  3,  3,  3,  3,  3,  3,\n",
       "        2,  2,  2,  2,  2,  2,  2,  2,  2,  2,  2,  2,  2,  1,  1,  1,  1,\n",
       "        1,  1,  1,  1,  1,  1,  1,  1,  1,  1,  1,  1,  1,  1,  1,  1,  1,\n",
       "        1,  1,  1,  1,  1,  1,  1,  1,  1,  1,  1,  1,  1,  1,  1,  1,  1,\n",
       "        1,  1,  1,  1,  1,  1]))"
      ]
     },
     "execution_count": 2,
     "metadata": {},
     "output_type": "execute_result"
    }
   ],
   "source": [
    "from copia.data import to_copia_dataset\n",
    "\n",
    "ds = to_copia_dataset(\n",
    "    df, data_type=\"abundance\", input_type=\"observations\", index_column=\"work\")\n",
    "ds"
   ]
  },
  {
   "cell_type": "markdown",
   "id": "5e905dfb-9d1a-490d-85cd-f196ec0b0b36",
   "metadata": {},
   "source": [
    "## Species Richness\n",
    "\n",
    "We utilize Copia's `copia.estimators` module to estimate unbiased diversity using one of the available estimators. All estimators can be accessed through a single entry point, the `diversity()` function:"
   ]
  },
  {
   "cell_type": "code",
   "execution_count": 3,
   "id": "7a94f6f9-5865-48ab-8813-8bc1f0755a14",
   "metadata": {},
   "outputs": [
    {
     "data": {
      "text/plain": [
       "148"
      ]
     },
     "execution_count": 3,
     "metadata": {},
     "output_type": "execute_result"
    }
   ],
   "source": [
    "from copia.estimators import diversity\n",
    "\n",
    "round(diversity(ds, method='chao1'))"
   ]
  },
  {
   "cell_type": "markdown",
   "id": "d8f8275d-de24-4221-8f6c-2845927c2e24",
   "metadata": {},
   "source": [
    "Copia includes a variety of estimators for your convenience:"
   ]
  },
  {
   "cell_type": "code",
   "execution_count": 4,
   "id": "b2054e96-ecf0-4b75-b6e7-09afb1aee108",
   "metadata": {},
   "outputs": [
    {
     "name": "stdout",
     "output_type": "stream",
     "text": [
      "chao1 -> 148\n",
      "ichao1 -> 166\n",
      "ace -> 148\n",
      "jackknife -> 173\n",
      "egghe_proot -> 165\n"
     ]
    }
   ],
   "source": [
    "for method in ('chao1', 'ichao1', 'ace', 'jackknife', 'egghe_proot'):\n",
    "    print(method, '->', round(diversity(ds, method=method)))"
   ]
  },
  {
   "cell_type": "markdown",
   "id": "0d7100ad-a957-478d-a202-ea1be95823c8",
   "metadata": {},
   "source": [
    "## Bootstrapped Estimation\n",
    "\n",
    "The Chao1 estimator provides a lower bound estimate of the unseen species count. However, this estimate itself has an associated range, defined by a lower and upper bound, which represents the confidence interval around the estimate. Two common approaches to obtaining this confidence interval include analytical solutions or bootstrap procedures. In Copia, the bootstrap procedure is implemented to derive these bounds. To enable this feature, set the CI parameter to True when calling the function."
   ]
  },
  {
   "cell_type": "code",
   "execution_count": 5,
   "id": "cecbccec-402e-443f-ae02-44ae13b1d3f8",
   "metadata": {},
   "outputs": [
    {
     "name": "stderr",
     "output_type": "stream",
     "text": [
      "100%|██████████████████████████████████████████████████████████████████████████████████████████████████████████████████████████████████| 100/100 [00:01<00:00, 78.38it/s]\n"
     ]
    },
    {
     "data": {
      "text/plain": [
       "est    148.012975\n",
       "lci    102.645897\n",
       "uci    225.651810\n",
       "Name: 0, dtype: float64"
      ]
     },
     "execution_count": 5,
     "metadata": {},
     "output_type": "execute_result"
    }
   ],
   "source": [
    "D = diversity(ds, method='chao1', CI=True, n_iter=100, n_jobs=1)\n",
    "D"
   ]
  }
 ],
 "metadata": {
  "kernelspec": {
   "display_name": "Python 3 (ipykernel)",
   "language": "python",
   "name": "python3"
  },
  "language_info": {
   "codemirror_mode": {
    "name": "ipython",
    "version": 3
   },
   "file_extension": ".py",
   "mimetype": "text/x-python",
   "name": "python",
   "nbconvert_exporter": "python",
   "pygments_lexer": "ipython3",
   "version": "3.11.7"
  }
 },
 "nbformat": 4,
 "nbformat_minor": 5
}
