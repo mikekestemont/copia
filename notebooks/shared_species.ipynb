{
 "cells": [
  {
   "cell_type": "markdown",
   "metadata": {},
   "source": [
    "# Shared Species Richness\n",
    "\n",
    "This notebook illustrates the use of the (unobserved) shared species richness estimator (`chao-shared`) included in the `copia` package. It documents the same example application that is used as a unit test in the package (see `tests/test_shared.py`). Accessible introductions to this problem are available in:\n",
    "> - Chao, Anne, et al., Deciphering the Enigma of Undetected Species, Phylogenetic, and Functional Diversity Based on Good-Turing Theory. *Ecology* (2017), 2914-2929 [[doi]](https://doi.org/10.1002/ecy.2000).\n",
    "\n",
    "> - Karsdorp, F, 'Estimating Unseen Shared Cultural Diversity' (2022) [[blog post]](https://web.archive.org/web/20220526135551/https://www.karsdorp.io/posts/20220316142536-two_assemblage_good_turing_estimation). \n",
    "\n",
    "We use some ecological example data, where the overlap in species richness was studied in two samples of trees. This data (tree species abundance counts for the edge and interior habitats in forest fragments of south-eastern Brazil) are borrowed from study:\n",
    "\n",
    "> Magnago, L. F. S., D. P. Edwards, F. A. Edwards, A. Magrach, S. V. Martins, and W. F. Laurance. 2014. Functional attributes change but functional richness is unchanged after fragmentation of Brazilian Atlantic forests. *Journal of Ecology* (2014), 475−485 [[doi]](http://dx.doi.org/10.1111/1365-2745.12206).\n",
    "\n",
    "This data was downloaded from Anne Chao's [Github page](https://raw.githubusercontent.com/AnneChao/Good-Turing/refs/heads/master/DataS1%20(abundance%20data).txt) and is included in the `copia` repository. We can load it as follows:"
   ]
  },
  {
   "cell_type": "code",
   "execution_count": 1,
   "metadata": {},
   "outputs": [
    {
     "data": {
      "text/html": [
       "<div>\n",
       "<style scoped>\n",
       "    .dataframe tbody tr th:only-of-type {\n",
       "        vertical-align: middle;\n",
       "    }\n",
       "\n",
       "    .dataframe tbody tr th {\n",
       "        vertical-align: top;\n",
       "    }\n",
       "\n",
       "    .dataframe thead th {\n",
       "        text-align: right;\n",
       "    }\n",
       "</style>\n",
       "<table border=\"1\" class=\"dataframe\">\n",
       "  <thead>\n",
       "    <tr style=\"text-align: right;\">\n",
       "      <th></th>\n",
       "      <th>species</th>\n",
       "      <th>s1</th>\n",
       "      <th>s2</th>\n",
       "    </tr>\n",
       "  </thead>\n",
       "  <tbody>\n",
       "    <tr>\n",
       "      <th>213</th>\n",
       "      <td>213</td>\n",
       "      <td>1</td>\n",
       "      <td>0</td>\n",
       "    </tr>\n",
       "    <tr>\n",
       "      <th>210</th>\n",
       "      <td>210</td>\n",
       "      <td>16</td>\n",
       "      <td>20</td>\n",
       "    </tr>\n",
       "    <tr>\n",
       "      <th>33</th>\n",
       "      <td>33</td>\n",
       "      <td>2</td>\n",
       "      <td>1</td>\n",
       "    </tr>\n",
       "    <tr>\n",
       "      <th>342</th>\n",
       "      <td>342</td>\n",
       "      <td>0</td>\n",
       "      <td>3</td>\n",
       "    </tr>\n",
       "    <tr>\n",
       "      <th>70</th>\n",
       "      <td>70</td>\n",
       "      <td>0</td>\n",
       "      <td>1</td>\n",
       "    </tr>\n",
       "  </tbody>\n",
       "</table>\n",
       "</div>"
      ],
      "text/plain": [
       "     species  s1  s2\n",
       "213      213   1   0\n",
       "210      210  16  20\n",
       "33        33   2   1\n",
       "342      342   0   3\n",
       "70        70   0   1"
      ]
     },
     "execution_count": 1,
     "metadata": {},
     "output_type": "execute_result"
    }
   ],
   "source": [
    "import pandas as pd\n",
    "trees = pd.read_csv('../datasets/trees.csv', header=0, sep=' ').reset_index(drop=True)\n",
    "trees.columns = ['s1', 's2']\n",
    "trees = trees.reset_index(names=['species'])\n",
    "trees['s1'] = trees['s1'].astype(int) # Edge trees\n",
    "trees['s2'] = trees['s2'].astype(int) # Interior trees\n",
    "\n",
    "trees.sample(5)"
   ]
  },
  {
   "cell_type": "markdown",
   "metadata": {},
   "source": [
    "Note that we need two, perfectly aligned counts of species in two assemblages that show partial overlap in their species richness. Because we need to preserve this overlap, we need to add an extra argument (`remove_zeros=False`) when converting each vector to a copia dataset:"
   ]
  },
  {
   "cell_type": "code",
   "execution_count": 2,
   "metadata": {},
   "outputs": [
    {
     "name": "stderr",
     "output_type": "stream",
     "text": [
      "/Users/mikekestemont/miniconda3/envs/copia/lib/python3.12/site-packages/tqdm/auto.py:21: TqdmWarning: IProgress not found. Please update jupyter and ipywidgets. See https://ipywidgets.readthedocs.io/en/stable/user_install.html\n",
      "  from .autonotebook import tqdm as notebook_tqdm\n"
     ]
    }
   ],
   "source": [
    "from copia.data import to_copia_dataset\n",
    "\n",
    "s1 = to_copia_dataset(trees, data_type='abundance', input_type='counts',\n",
    "                          index_column='species', count_column='s1', remove_zeros=False)\n",
    "s2 = to_copia_dataset(trees, data_type='abundance', input_type='counts',\n",
    "                          index_column='species', count_column='s2', remove_zeros=False)"
   ]
  },
  {
   "cell_type": "markdown",
   "metadata": {},
   "source": [
    "This ensures that the resulting counts in each dataset can still be aligned, which is crucial for the estimator to function properly:"
   ]
  },
  {
   "cell_type": "code",
   "execution_count": 3,
   "metadata": {},
   "outputs": [
    {
     "data": {
      "text/plain": [
       "True"
      ]
     },
     "execution_count": 3,
     "metadata": {},
     "output_type": "execute_result"
    }
   ],
   "source": [
    "len(s1.counts) == len(s2.counts)"
   ]
  },
  {
   "cell_type": "markdown",
   "metadata": {},
   "source": [
    "We can verify the basic integrity of the data by comparing our basic statistics to those reported in Chao et al. (2017):"
   ]
  },
  {
   "cell_type": "code",
   "execution_count": 4,
   "metadata": {},
   "outputs": [],
   "source": [
    "assert s1.S_obs == 319\n",
    "assert s1.f1 == 110\n",
    "assert s1.f2 == 48\n",
    "assert s1.n == 1794\n",
    "\n",
    "assert s2.S_obs == 356\n",
    "assert s2.f1 == 123\n",
    "assert s2.f2 == 48\n",
    "assert s2.n == 2074"
   ]
  },
  {
   "cell_type": "markdown",
   "metadata": {},
   "source": [
    "We can now apply the `chao-shared` estimator. First, we have a look at the plain point estimates, without any confidence intervals:"
   ]
  },
  {
   "cell_type": "code",
   "execution_count": 5,
   "metadata": {},
   "outputs": [
    {
     "data": {
      "text/plain": [
       "{'total': np.float64(389.15351223662145),\n",
       " 'obs_shared': np.float64(250.0),\n",
       " 'unobs_shared': np.float64(139.15351223662142),\n",
       " 'f0+': np.float64(48.62153123022688),\n",
       " 'f+0': np.float64(68.2337512054002),\n",
       " 'f00': np.float64(22.29822980099436)}"
      ]
     },
     "execution_count": 5,
     "metadata": {},
     "output_type": "execute_result"
    }
   ],
   "source": [
    "import copia\n",
    "without_ci = copia.estimators.chao_shared(s1, s2, CI=False)\n",
    "without_ci"
   ]
  },
  {
   "cell_type": "markdown",
   "metadata": {},
   "source": [
    "A results `dict` is returned containing (unrounded) floats for all of the (estimated) quantities that are relevant to this problem:\n",
    "- $f_{00}$: number of species estimated to be shared by the two assemblages, but observable in neither of the samples;\n",
    "- $f_{0+}$: number of species estimated to be shared by the two assemblages, but only observed in the 2nd sample;\n",
    "- $f_{+0}$: number of species estimated to be shared by the two assemblages, but only observed in the 1nd sample;\n",
    "- unobserved shared species: the sum of the prior estimands: $f_{00}$ + $f_{0+}$ + $f_{+0}$;\n",
    "- observed shared species: the number of shared species that can be emprically observed; \n",
    "- the total (estimated) number of shared species: the sum of the unobserved and the observed shared species"
   ]
  },
  {
   "cell_type": "markdown",
   "metadata": {},
   "source": [
    "When we round these numbers to integers, we can again check whether they match the earlier published results:"
   ]
  },
  {
   "cell_type": "code",
   "execution_count": 6,
   "metadata": {},
   "outputs": [],
   "source": [
    "assert int(without_ci['total']) == 389\n",
    "assert int(without_ci['unobs_shared']) == 139\n",
    "assert int(without_ci['f0+']) == 48\n",
    "assert int(without_ci['f+0']) == 68\n",
    "assert int(without_ci['f00']) == 22"
   ]
  },
  {
   "cell_type": "markdown",
   "metadata": {},
   "source": [
    "A novelty of this implementation is the calculation of confidence intervals for *all* of these estimands, which was developped in R by Anna Chao. We included a translation this bootstrapping approach to Python in `copia`. Consult the documentation to check out the options for running this approach:"
   ]
  },
  {
   "cell_type": "code",
   "execution_count": 7,
   "metadata": {},
   "outputs": [
    {
     "name": "stdout",
     "output_type": "stream",
     "text": [
      "Help on function chao_shared in module copia.estimators:\n",
      "\n",
      "chao_shared(ds1: copia.data.AbundanceData, ds2: copia.data.AbundanceData, CI=False, **kwargs)\n",
      "    Estimate (shared) unseen species in two assemblages\n",
      "\n",
      "    Parameters\n",
      "    ----------\n",
      "    s1 : 1D Numpy array\n",
      "        Representing the observed counts for each individual species in the\n",
      "        *first* assemblage. (Should have the same length as `s2`.)\n",
      "    s2 : 1D Numpy array\n",
      "        Representing the observed counts for each individual species in the\n",
      "        *second* assemblage. (Should have the same length as `s1`.)\n",
      "    CI : bool, default=False\n",
      "        Whether to return the confidence interval for the estimates\n",
      "        **kwargs : dict\n",
      "        Additional arguments passed to the bootstrap function:\n",
      "        - conf : float, default=0.95\n",
      "            Confidence level for intervals\n",
      "        - n_iter : int, default=1000\n",
      "            Number of bootstrap iterations\n",
      "        - n_jobs : int, default=1\n",
      "            Number of parallel jobs\n",
      "        - seed : int or None\n",
      "            Random seed\n",
      "        - disable_pb : bool, default=False\n",
      "            Whether to disable progress bar\n",
      "\n",
      "    Returns\n",
      "    -------\n",
      "    results : dict\n",
      "        If CI=False:\n",
      "            Dictionary containing point estimates for:\n",
      "            - total : float\n",
      "                The estimated total number of species across both assemblages\n",
      "            - obs_shared : float\n",
      "                The observed number of shared species across both assemblages\n",
      "            - unobs_shared : float\n",
      "                The estimated (unobserved) number of shared species across both\n",
      "                assemblages, or the sum of `f0+`, `f+0`, and `f00`\n",
      "            - f0+ : float\n",
      "                The number of unseen species unobserved, missing in `s1`,\n",
      "                but present in `s2`\n",
      "            - f+0 : float\n",
      "                The number of unseen species unobserved, missing in `s2`,\n",
      "                but present in `s1`\n",
      "            - f00 : float\n",
      "                The number of species unobserved and missing from both `s1` and `s2`\n",
      "\n",
      "        If CI=True:\n",
      "            Dictionary containing all point estimates as above, plus two additional keys:\n",
      "            - CI : dict\n",
      "                Contains confidence intervals for each estimate, with structure:\n",
      "                {estimate_name: {'lower': float, 'upper': float}}\n",
      "                for each of the estimates listed above\n",
      "            - se : dict\n",
      "                Contains standard errors for each estimate, with structure:\n",
      "                {estimate_name: float} for each of the estimates listed above\n",
      "\n",
      "    Notes\n",
      "    -------\n",
      "        - No integer rounding is performed on the estimates.\n",
      "        - The code accounts for edge cases where the counts\n",
      "          of rare species categories (e.g. $f_2$) might be zero.\n",
      "        - The CIs are clamped to the positive realm, so that\n",
      "          both upper and lower CIs are guarenteed to be >=0.\n",
      "\n",
      "    Warning\n",
      "    -------\n",
      "    Make sure that the counts in `s1` and `s2` are still properly aligned!\n",
      "    If that is not the case, the estimates will not be valid. The function\n",
      "    to_copia_dataset() can help: set remove_zeros=0. Example:\n",
      "\n",
      "    > from copia.data import to_copia_dataset\n",
      "    > s1 = to_copia_dataset(trees, data_type='abundance', input_type='counts',\n",
      "                          index_column='species', count_column='s1', remove_zeros=False)\n",
      "    > s2 = to_copia_dataset(trees, data_type='abundance', input_type='counts',\n",
      "                          index_column='species', count_column='s2', remove_zeros=False)\n",
      "\n",
      "\n",
      "    Confidence intervals\n",
      "    -------\n",
      "    The calculation of the CIs is based on a bootstrap appraoch. For the total\n",
      "    shared, a log-transformation is used to obtain CI, so that LCL\n",
      "    is greater than the observed shared species; see Chao et al. (1987,\n",
      "    Biometrics, Eq. 12) for the transformation and formula. The resulting CI\n",
      "    is generally asymmetric. However, such a transformation cannot be applied\n",
      "    to the CI construction for f0+, f+0 and f00 because these three values\n",
      "    are not observable in data. Thus for these three terms, CIs are still\n",
      "    based on a symmetric interval. Thus, the lower CI may become negative due\n",
      "    to data sparsity (i.e., mainly due to large s.e.). This function truncates\n",
      "    any negative values in the CIs. The calculation for the CIs is to be credited\n",
      "    to Anne Chao.\n",
      "\n",
      "    References\n",
      "    -------\n",
      "    - Chao, Anne, Estimating the population size for capture-recapture data\n",
      "      with unequal catchability. Biometrics (1987), 783-791.\n",
      "    - Chao, Anne, et al. 'Deciphering the Enigma of Undetected\n",
      "      Species, Phylogenetic, and Functional Diversity Based on Good-Turing\n",
      "      Theory.' Ecology (2017), 2914-2929.\n",
      "    - Code based on: Karsdorp, F, 'Estimating Unseen Shared Cultural Diversity' (2022).\n",
      "      https://web.archive.org/web/20220526135551/https://www.karsdorp.io/\\\n",
      "      posts/20220316142536-two_assemblage_good_turing_estimation\n",
      "\n"
     ]
    }
   ],
   "source": [
    "help(copia.estimators.chao_shared)"
   ]
  },
  {
   "cell_type": "markdown",
   "metadata": {},
   "source": [
    "We can, for example, run the bootstrap on our data as follows:"
   ]
  },
  {
   "cell_type": "code",
   "execution_count": 8,
   "metadata": {},
   "outputs": [
    {
     "data": {
      "text/plain": [
       "{'total': np.float64(389.15351223662145),\n",
       " 'obs_shared': np.float64(250.0),\n",
       " 'unobs_shared': np.float64(139.15351223662142),\n",
       " 'f0+': np.float64(48.62153123022688),\n",
       " 'f+0': np.float64(68.2337512054002),\n",
       " 'f00': np.float64(22.29822980099436),\n",
       " 'CI': {'total': {'lower': np.float64(345.98785656589394),\n",
       "   'upper': np.float64(451.730725745446)},\n",
       "  'obs_shared': {'lower': np.float64(235.19401027065163),\n",
       "   'upper': np.float64(264.80598972934837)},\n",
       "  'unobs_shared': {'lower': np.float64(25.21014373919517),\n",
       "   'upper': np.float64(253.09688073404772)},\n",
       "  'f0+': {'lower': np.float64(15.766657406865363),\n",
       "   'upper': np.float64(81.4764050535884)},\n",
       "  'f+0': {'lower': np.float64(36.00405765026279),\n",
       "   'upper': np.float64(100.46344476053761)},\n",
       "  'f00': {'lower': 0, 'upper': np.float64(71.1570309199217)}},\n",
       " 'se': {'total': np.float64(46.612947302937435),\n",
       "  'obs_shared': np.float64(7.554215203001753),\n",
       "  'unobs_shared': np.float64(34.24660635043597),\n",
       "  'f0+': np.float64(16.7629987502406),\n",
       "  'f+0': np.float64(16.444023364388897),\n",
       "  'f00': np.float64(24.928417820082068)}}"
      ]
     },
     "execution_count": 8,
     "metadata": {},
     "output_type": "execute_result"
    }
   ],
   "source": [
    "results = copia.estimators.chao_shared(s1, s2, CI=True, conf=.95,\n",
    "                                       n_iter=100000, seed=573861)\n",
    "results"
   ]
  },
  {
   "cell_type": "markdown",
   "metadata": {},
   "source": [
    "Now, the returned dictionary still includes the point estimates, but additionally also a \"se\" field (for the standard error) and a 'CI' field, with keys for each of the above mentioned quantities:\n",
    "- 'lower': the lower end of the confidence interval\n",
    "- 'uper': the lower end of the confidence interval\n",
    "\n",
    "Note that there is also a CI reported for obs_shared, even though this quantity is emprically observed: this is nevertheless interesting, as this range provides some insight in the registration uncertainty. We can convert this dictionary structured to a dataframe:"
   ]
  },
  {
   "cell_type": "code",
   "execution_count": 9,
   "metadata": {},
   "outputs": [
    {
     "data": {
      "text/html": [
       "<div>\n",
       "<style scoped>\n",
       "    .dataframe tbody tr th:only-of-type {\n",
       "        vertical-align: middle;\n",
       "    }\n",
       "\n",
       "    .dataframe tbody tr th {\n",
       "        vertical-align: top;\n",
       "    }\n",
       "\n",
       "    .dataframe thead th {\n",
       "        text-align: right;\n",
       "    }\n",
       "</style>\n",
       "<table border=\"1\" class=\"dataframe\">\n",
       "  <thead>\n",
       "    <tr style=\"text-align: right;\">\n",
       "      <th></th>\n",
       "      <th>name</th>\n",
       "      <th>Est</th>\n",
       "      <th>se</th>\n",
       "      <th>95% LCL</th>\n",
       "      <th>95% UCL</th>\n",
       "    </tr>\n",
       "  </thead>\n",
       "  <tbody>\n",
       "    <tr>\n",
       "      <th>0</th>\n",
       "      <td>total</td>\n",
       "      <td>389.153512</td>\n",
       "      <td>46.612947</td>\n",
       "      <td>345.987857</td>\n",
       "      <td>451.730726</td>\n",
       "    </tr>\n",
       "    <tr>\n",
       "      <th>1</th>\n",
       "      <td>obs_shared</td>\n",
       "      <td>250.000000</td>\n",
       "      <td>7.554215</td>\n",
       "      <td>235.194010</td>\n",
       "      <td>264.805990</td>\n",
       "    </tr>\n",
       "    <tr>\n",
       "      <th>2</th>\n",
       "      <td>unobs_shared</td>\n",
       "      <td>139.153512</td>\n",
       "      <td>34.246606</td>\n",
       "      <td>25.210144</td>\n",
       "      <td>253.096881</td>\n",
       "    </tr>\n",
       "    <tr>\n",
       "      <th>3</th>\n",
       "      <td>f0+</td>\n",
       "      <td>48.621531</td>\n",
       "      <td>16.762999</td>\n",
       "      <td>15.766657</td>\n",
       "      <td>81.476405</td>\n",
       "    </tr>\n",
       "    <tr>\n",
       "      <th>4</th>\n",
       "      <td>f+0</td>\n",
       "      <td>68.233751</td>\n",
       "      <td>16.444023</td>\n",
       "      <td>36.004058</td>\n",
       "      <td>100.463445</td>\n",
       "    </tr>\n",
       "    <tr>\n",
       "      <th>5</th>\n",
       "      <td>f00</td>\n",
       "      <td>22.298230</td>\n",
       "      <td>24.928418</td>\n",
       "      <td>0.000000</td>\n",
       "      <td>71.157031</td>\n",
       "    </tr>\n",
       "  </tbody>\n",
       "</table>\n",
       "</div>"
      ],
      "text/plain": [
       "           name         Est         se     95% LCL     95% UCL\n",
       "0         total  389.153512  46.612947  345.987857  451.730726\n",
       "1    obs_shared  250.000000   7.554215  235.194010  264.805990\n",
       "2  unobs_shared  139.153512  34.246606   25.210144  253.096881\n",
       "3           f0+   48.621531  16.762999   15.766657   81.476405\n",
       "4           f+0   68.233751  16.444023   36.004058  100.463445\n",
       "5           f00   22.298230  24.928418    0.000000   71.157031"
      ]
     },
     "execution_count": 9,
     "metadata": {},
     "output_type": "execute_result"
    }
   ],
   "source": [
    "data = {\n",
    "        'name': ['total', 'obs_shared', 'unobs_shared', 'f0+', 'f+0', 'f00'],\n",
    "        'Est': [\n",
    "            results['total'],\n",
    "            results['obs_shared'],\n",
    "            results['unobs_shared'],\n",
    "            results['f0+'],\n",
    "            results['f+0'],\n",
    "            results['f00'],\n",
    "        ]\n",
    "    }\n",
    "    \n",
    "if 'CI' in results:\n",
    "        data['se'] = [\n",
    "            results['se']['total'],\n",
    "            results['se']['obs_shared'],\n",
    "            results['se']['unobs_shared'],\n",
    "            results['se']['f0+'],\n",
    "            results['se']['f+0'],\n",
    "            results['se']['f00'],\n",
    "        ]\n",
    "        data['95% LCL'] = [\n",
    "            results['CI']['total']['lower'],\n",
    "            results['CI']['obs_shared']['lower'],\n",
    "            results['CI']['unobs_shared']['lower'],\n",
    "            results['CI']['f0+']['lower'],\n",
    "            results['CI']['f+0']['lower'],\n",
    "            results['CI']['f00']['lower'],\n",
    "        ]\n",
    "        data['95% UCL'] = [\n",
    "            results['CI']['total']['upper'],\n",
    "            results['CI']['obs_shared']['upper'],\n",
    "            results['CI']['unobs_shared']['upper'],\n",
    "            results['CI']['f0+']['upper'],\n",
    "            results['CI']['f+0']['upper'],\n",
    "            results['CI']['f00']['upper'],\n",
    "        ]\n",
    "    \n",
    "df = pd.DataFrame(data)\n",
    "df"
   ]
  },
  {
   "cell_type": "markdown",
   "metadata": {},
   "source": [
    "The bootstrap procedure has an important stochastic component, but we should still compare our results to those which Anne Chao's original R code yielded. For 100,000 bootstrap iterations on the same data, the result was:"
   ]
  },
  {
   "cell_type": "markdown",
   "metadata": {},
   "source": [
    "| name         | Est      | se        | 95% LCL    | 95% UCL    |\n",
    "|--------------|----------|-----------|------------|------------|\n",
    "| Total Shared | 389.15351| 47.161162 | 344.53188  | 454.83777  |\n",
    "| Observed     | 250.0000 | 7.584525  | 235.13460  | 264.86540  |\n",
    "| f0+          | 48.62153 | 16.513020 | 16.25661   | 80.98646   |\n",
    "| f+0          | 68.23375 | 16.925876 | 35.05964   | 101.40786  |\n",
    "| f00          | 22.29823 | 25.375588 | -27.43701  | 72.03347   |"
   ]
  },
  {
   "cell_type": "markdown",
   "metadata": {},
   "source": [
    "When comparing the tables, we see that the point estimates are virtually identical and the CIs are acceptably close to one another, given the uncertainty in the data. The negative (viz. impossible!) 95% LCL for $f_{00}$ has been clamped to 0 in our function, which is the documented behaviour of the `copia` estimator."
   ]
  },
  {
   "cell_type": "markdown",
   "metadata": {},
   "source": [
    "### Extra: visualization"
   ]
  },
  {
   "cell_type": "markdown",
   "metadata": {},
   "source": [
    "A nice forest-style plot of the estimates and the corresponding CIs can be obtained as follows:"
   ]
  },
  {
   "cell_type": "code",
   "execution_count": 10,
   "metadata": {},
   "outputs": [
    {
     "data": {
      "image/png": "[encoded data removed]",
      "text/plain": [
       "<Figure size 2100x1200 with 1 Axes>"
      ]
     },
     "metadata": {},
     "output_type": "display_data"
    }
   ],
   "source": [
    "import matplotlib.pyplot as plt\n",
    "plt.rcParams['font.family'] = 'sans-serif'\n",
    "plt.rcParams['font.sans-serif'] = ['Roboto Condensed']\n",
    "\n",
    "def plot_shared_species_forest(df, title=None):\n",
    "    estimate_color = '#3498db'\n",
    "    ci_color = '#85c1e9'\n",
    "    observed_color = '#8E44AD'\n",
    "    grid_color = '#bdc3c7'\n",
    "    total_s_color = '#27AE60'\n",
    "    \n",
    "    fig, ax = plt.subplots(figsize=(7, 4), dpi=300)\n",
    "    ax.set_facecolor('white')\n",
    "    fig.patch.set_facecolor('white')\n",
    "    \n",
    "    estimates = {\n",
    "        'f0+': (df.loc[df['name'] == 'f0+', 'Est'].iloc[0],\n",
    "                df.loc[df['name'] == 'f0+', '95% LCL'].iloc[0],\n",
    "                df.loc[df['name'] == 'f0+', '95% UCL'].iloc[0]),\n",
    "        'f+0': (df.loc[df['name'] == 'f+0', 'Est'].iloc[0],\n",
    "                df.loc[df['name'] == 'f+0', '95% LCL'].iloc[0],\n",
    "                df.loc[df['name'] == 'f+0', '95% UCL'].iloc[0]),\n",
    "        'f00': (df.loc[df['name'] == 'f00', 'Est'].iloc[0],\n",
    "                df.loc[df['name'] == 'f00', '95% LCL'].iloc[0],\n",
    "                df.loc[df['name'] == 'f00', '95% UCL'].iloc[0]),\n",
    "        'Observed': (df.loc[df['name'] == 'obs_shared', 'Est'].iloc[0],\n",
    "                    df.loc[df['name'] == 'obs_shared', '95% LCL'].iloc[0],\n",
    "                    df.loc[df['name'] == 'obs_shared', '95% UCL'].iloc[0]),\n",
    "        'Total S': (df.loc[df['name'] == 'total', 'Est'].iloc[0],\n",
    "                   df.loc[df['name'] == 'total', '95% LCL'].iloc[0],\n",
    "                   df.loc[df['name'] == 'total', '95% UCL'].iloc[0])\n",
    "    }\n",
    "    \n",
    "    y_positions = range(len(estimates))\n",
    "    for i, (name, (est, lower, upper)) in enumerate(estimates.items()):\n",
    "        if name == 'Total S':\n",
    "            line_color = total_s_color\n",
    "            marker_color = total_s_color\n",
    "        elif name == 'Observed':\n",
    "            line_color = observed_color\n",
    "            marker_color = observed_color\n",
    "        else:\n",
    "            line_color = ci_color\n",
    "            marker_color = estimate_color\n",
    "            \n",
    "        ax.plot([lower, upper], [i, i], '-', color=line_color, linewidth=2.5, \n",
    "                solid_capstyle='round')\n",
    "        \n",
    "        ax.plot(est, i, 'o', color=marker_color, markersize=17, \n",
    "               markeredgewidth=2, markeredgecolor=marker_color, \n",
    "               markerfacecolor='white')\n",
    "        \n",
    "        ax.text(est, i-0.02, f'{int(round(est))}', ha='center', va='center', \n",
    "                color=marker_color, fontsize=9, fontweight='bold')\n",
    "    \n",
    "    ax.set_yticks(y_positions)\n",
    "    ax.set_yticklabels(estimates.keys())\n",
    "    ax.grid(True, axis='x', linestyle='--', alpha=0.5, color=grid_color)\n",
    "    \n",
    "    if title:\n",
    "        ax.set_title(title, fontsize=12, pad=15)\n",
    "    \n",
    "    ax.set_xlabel('Number of Species', fontsize=11)\n",
    "    \n",
    "    ax.spines['top'].set_visible(False)\n",
    "    ax.spines['right'].set_visible(False)\n",
    "    ax.spines['left'].set_color('#cccccc')\n",
    "    ax.spines['bottom'].set_color('#cccccc')\n",
    "    \n",
    "    ax.tick_params(axis='both', labelsize=10, colors='#666666')\n",
    "    \n",
    "    plt.tight_layout()\n",
    "    \n",
    "    return fig, ax\n",
    "\n",
    "fig, ax = plot_shared_species_forest(df, title=\"Trees Dataset - Shared Species\")\n",
    "plt.show()"
   ]
  }
 ],
 "metadata": {
  "kernelspec": {
   "display_name": "copia",
   "language": "python",
   "name": "python3"
  },
  "language_info": {
   "codemirror_mode": {
    "name": "ipython",
    "version": 3
   },
   "file_extension": ".py",
   "mimetype": "text/x-python",
   "name": "python",
   "nbconvert_exporter": "python",
   "pygments_lexer": "ipython3",
   "version": "3.12.8"
  }
 },
 "nbformat": 4,
 "nbformat_minor": 2
}
