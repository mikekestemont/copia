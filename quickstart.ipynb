{
 "cells": [
  {
   "cell_type": "markdown",
   "metadata": {},
   "source": [
    "# Copia: quickstart"
   ]
  },
  {
   "cell_type": "code",
   "execution_count": 1,
   "metadata": {},
   "outputs": [],
   "source": [
    "import pandas as pd\n",
    "import seaborn as sb\n",
    "import matplotlib.pyplot as plt"
   ]
  },
  {
   "cell_type": "markdown",
   "metadata": {},
   "source": [
    "Load data:"
   ]
  },
  {
   "cell_type": "code",
   "execution_count": 2,
   "metadata": {},
   "outputs": [
    {
     "data": {
      "text/html": [
       "<div>\n",
       "<style scoped>\n",
       "    .dataframe tbody tr th:only-of-type {\n",
       "        vertical-align: middle;\n",
       "    }\n",
       "\n",
       "    .dataframe tbody tr th {\n",
       "        vertical-align: top;\n",
       "    }\n",
       "\n",
       "    .dataframe thead th {\n",
       "        text-align: right;\n",
       "    }\n",
       "</style>\n",
       "<table border=\"1\" class=\"dataframe\">\n",
       "  <thead>\n",
       "    <tr style=\"text-align: right;\">\n",
       "      <th></th>\n",
       "      <th>work</th>\n",
       "      <th>signature</th>\n",
       "    </tr>\n",
       "  </thead>\n",
       "  <tbody>\n",
       "    <tr>\n",
       "      <th>0</th>\n",
       "      <td>Aiol (1)</td>\n",
       "      <td>Leiden, UB, BPL 1049; Brussel, KB, IV 816</td>\n",
       "    </tr>\n",
       "    <tr>\n",
       "      <th>1</th>\n",
       "      <td>Aiol (2)</td>\n",
       "      <td>Breda, Arch. Begijnhof, z.s.</td>\n",
       "    </tr>\n",
       "    <tr>\n",
       "      <th>2</th>\n",
       "      <td>Alexanders geesten</td>\n",
       "      <td>München, Bayerische Staatsbibliotheek, Cod. ge...</td>\n",
       "    </tr>\n",
       "    <tr>\n",
       "      <th>3</th>\n",
       "      <td>Alexanders geesten</td>\n",
       "      <td>Gent, UB, 2749,6</td>\n",
       "    </tr>\n",
       "    <tr>\n",
       "      <th>4</th>\n",
       "      <td>Alexanders geesten</td>\n",
       "      <td>Leiden, UB, Ltk. 1196</td>\n",
       "    </tr>\n",
       "  </tbody>\n",
       "</table>\n",
       "</div>"
      ],
      "text/plain": [
       "                 work                                          signature\n",
       "0            Aiol (1)          Leiden, UB, BPL 1049; Brussel, KB, IV 816\n",
       "1            Aiol (2)                       Breda, Arch. Begijnhof, z.s.\n",
       "2  Alexanders geesten  München, Bayerische Staatsbibliotheek, Cod. ge...\n",
       "3  Alexanders geesten                                   Gent, UB, 2749,6\n",
       "4  Alexanders geesten                              Leiden, UB, Ltk. 1196"
      ]
     },
     "execution_count": 2,
     "metadata": {},
     "output_type": "execute_result"
    }
   ],
   "source": [
    "df = pd.read_csv('datasets/dum.csv', sep=';', header=None)\n",
    "df.columns = 'work', 'signature'\n",
    "df.head()"
   ]
  },
  {
   "cell_type": "markdown",
   "metadata": {},
   "source": [
    "Convert to abundance data:"
   ]
  },
  {
   "cell_type": "code",
   "execution_count": 3,
   "metadata": {},
   "outputs": [
    {
     "name": "stdout",
     "output_type": "stream",
     "text": [
      "(1, 1, 5, 2, 1, 2, 1, 1, 2, 2, 3, 3, 1, 1, 2, 1, 1, 1, 1, 2, 1, 1, 1, 1, 1, 1, 4, 1, 1, 7, 1, 1, 3, 1, 10, 1, 3, 2, 10, 4, 2, 1, 3, 6, 5, 2, 5, 2, 5, 1, 1, 1, 1, 1, 2, 17, 2, 1, 1, 2, 1, 1, 1, 3, 1, 1, 1, 1, 1, 1, 1, 1, 1, 1, 1)\n"
     ]
    }
   ],
   "source": [
    "from copia.utils import to_abundance\n",
    "works = df['work']\n",
    "abundance = to_abundance(works)\n",
    "print(abundance)"
   ]
  },
  {
   "cell_type": "markdown",
   "metadata": {},
   "source": [
    "Apply chao1:"
   ]
  },
  {
   "cell_type": "code",
   "execution_count": 4,
   "metadata": {},
   "outputs": [
    {
     "name": "stdout",
     "output_type": "stream",
     "text": [
      "Emprirical: 75\n",
      "chao1: 152.41824044219254\n",
      "Egghe & Proot: 170.30024512537264\n",
      "Jackknife: 177.0\n"
     ]
    }
   ],
   "source": [
    "from copia.richness import richness\n",
    "print('Emprirical:', richness(abundance))\n",
    "print('chao1:', richness(abundance, method='chao1'))\n",
    "print('Egghe & Proot:', richness(abundance, method='egghe_proot'))\n",
    "print('Jackknife:', richness(abundance, method='jackknife'))"
   ]
  },
  {
   "cell_type": "code",
   "execution_count": 5,
   "metadata": {},
   "outputs": [
    {
     "name": "stdout",
     "output_type": "stream",
     "text": [
      "{'richness': 177.0, 'order': 3}\n",
      "{'richness': 177.0, 'order': 3, 'lci': 127.80529442066658, 'uci': 226.1947055793334}\n",
      "{'richness': 177.0, 'lci': 127.80529442066658, 'uci': 226.1947055793334}\n",
      "{'richness': 177.0, 'lci': 127.80529442066658, 'uci': 226.1947055793334}\n"
     ]
    }
   ],
   "source": [
    "print(richness(abundance, method='jackknife', return_order=True))\n",
    "print(richness(abundance, method='jackknife', return_order=True,return_ci=True))\n",
    "print(richness(abundance, method='jackknife', return_ci=True, conf=.89))\n",
    "print(richness(abundance, method='jackknife', return_order=False,\n",
    "               return_ci=True, conf=.89))"
   ]
  },
  {
   "cell_type": "code",
   "execution_count": 6,
   "metadata": {},
   "outputs": [
    {
     "name": "stdout",
     "output_type": "stream",
     "text": [
      "2047.7560477560478\n",
      "2047.7560477560478\n",
      "2047.7544528130888\n",
      "2047.7560477560478\n"
     ]
    },
    {
     "name": "stderr",
     "output_type": "stream",
     "text": [
      "/Users/mikekestemont/GitRepos/copia/copia/richness.py:318: UserWarning: Tolerance criterion not met: 0.005726762492940907 > 1e-10\n",
      "  warnings.warn(f'Tolerance criterion not met: {diff_intersect} > {tolerance}')\n"
     ]
    }
   ],
   "source": [
    "print(richness(abundance, method='minsample'))\n",
    "print(richness(abundance, method='minsample', solver='grid'))\n",
    "print(richness(abundance, method='minsample', solver='fsolve'))\n",
    "print(richness(abundance, method='minsample', solver='grid', tolerance=1e-10))"
   ]
  },
  {
   "cell_type": "code",
   "execution_count": 7,
   "metadata": {},
   "outputs": [
    {
     "data": {
      "image/png": "[encoded data removed]",
      "text/plain": [
       "<Figure size 432x288 with 1 Axes>"
      ]
     },
     "metadata": {
      "needs_background": "light"
     },
     "output_type": "display_data"
    }
   ],
   "source": [
    "estimate = richness(abundance, method='chao1', CI=True)\n",
    "sb.distplot(estimate['bootstrap'])\n",
    "plt.axvline(estimate['richness'], color='red');"
   ]
  },
  {
   "cell_type": "code",
   "execution_count": 8,
   "metadata": {},
   "outputs": [
    {
     "data": {
      "image/png": "[encoded data removed]",
      "text/plain": [
       "<Figure size 432x288 with 1 Axes>"
      ]
     },
     "metadata": {
      "needs_background": "light"
     },
     "output_type": "display_data"
    }
   ],
   "source": [
    "estimate = richness(abundance, method='minsample', solver='fsolve', CI=True)\n",
    "sb.distplot(estimate['bootstrap'])\n",
    "plt.axvline(estimate['richness'], color='red');"
   ]
  },
  {
   "cell_type": "code",
   "execution_count": 9,
   "metadata": {},
   "outputs": [
    {
     "data": {
      "image/png": "[encoded data removed]",
      "text/plain": [
       "<Figure size 432x288 with 1 Axes>"
      ]
     },
     "metadata": {
      "needs_background": "light"
     },
     "output_type": "display_data"
    }
   ],
   "source": [
    "estimate = richness(abundance, method='egghe_proot', CI=True)\n",
    "sb.distplot(estimate['bootstrap'])\n",
    "plt.axvline(estimate['richness'], color='red');"
   ]
  },
  {
   "cell_type": "code",
   "execution_count": null,
   "metadata": {},
   "outputs": [],
   "source": []
  }
 ],
 "metadata": {
  "kernelspec": {
   "display_name": "Python (n36)",
   "language": "python",
   "name": "n36"
  },
  "language_info": {
   "codemirror_mode": {
    "name": "ipython",
    "version": 3
   },
   "file_extension": ".py",
   "mimetype": "text/x-python",
   "name": "python",
   "nbconvert_exporter": "python",
   "pygments_lexer": "ipython3",
   "version": "3.6.10"
  }
 },
 "nbformat": 4,
 "nbformat_minor": 4
}
